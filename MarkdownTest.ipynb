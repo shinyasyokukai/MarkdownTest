{
  "nbformat": 4,
  "nbformat_minor": 0,
  "metadata": {
    "colab": {
      "name": "MarkdownTest.ipynb",
      "provenance": [],
      "authorship_tag": "ABX9TyOG1Lvr+a/pAbbnQ9hArO3Z",
      "include_colab_link": true
    },
    "kernelspec": {
      "name": "python3",
      "display_name": "Python 3"
    },
    "language_info": {
      "name": "python"
    }
  },
  "cells": [
    {
      "cell_type": "markdown",
      "metadata": {
        "id": "view-in-github",
        "colab_type": "text"
      },
      "source": [
        "<a href=\"https://colab.research.google.com/github/shinyasyokukai/MarkdownTest/blob/main/MarkdownTest.ipynb\" target=\"_parent\"><img src=\"https://colab.research.google.com/assets/colab-badge.svg\" alt=\"Open In Colab\"/></a>"
      ]
    },
    {
      "cell_type": "markdown",
      "source": [
        "$x=0$\n",
        "$$\n",
        "y = \\pi\n",
        "$$"
      ],
      "metadata": {
        "id": "ria7yCya9nVq"
      }
    }
  ]
}